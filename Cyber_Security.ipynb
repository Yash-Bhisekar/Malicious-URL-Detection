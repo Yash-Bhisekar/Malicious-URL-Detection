{
  "cells": [
    {
      "cell_type": "code",
      "execution_count": null,
      "metadata": {
        "colab": {
          "base_uri": "https://localhost:8080/"
        },
        "id": "obsavTjYN9Ii",
        "outputId": "6750c807-57a8-4982-d963-20f8869d864e"
      },
      "outputs": [
        {
          "output_type": "stream",
          "name": "stdout",
          "text": [
            "Dataset shape: (651191, 2)\n",
            "Class Distribution:\n",
            " type\n",
            "benign        428103\n",
            "defacement     96457\n",
            "phishing       94111\n",
            "malware        32520\n",
            "Name: count, dtype: int64\n"
          ]
        }
      ],
      "source": [
        "import pandas as pd\n",
        "import numpy as np\n",
        "import re\n",
        "import math\n",
        "import joblib\n",
        "from sklearn.model_selection import train_test_split\n",
        "from sklearn.preprocessing import LabelEncoder, StandardScaler\n",
        "from sklearn.linear_model import LogisticRegression\n",
        "from sklearn.tree import DecisionTreeClassifier\n",
        "\n",
        "df = pd.read_csv(\"malicious_phish.csv\")\n",
        "print(\"Dataset shape:\", df.shape)\n",
        "print(\"Class Distribution:\\n\", df['type'].value_counts())\n",
        "\n",
        "\n",
        "\n"
      ]
    },
    {
      "cell_type": "code",
      "source": [
        "suspicious_keywords = [\n",
        "    'login', 'secure', 'account', 'update', 'free', 'verify',\n",
        "    'banking', 'paypal', 'signin', 'confirm', 'password'\n",
        "]\n",
        "\n",
        "def calculate_entropy(string):\n",
        "    prob = [float(string.count(c)) / len(string) for c in dict.fromkeys(list(string))]\n",
        "    return - sum([p * math.log(p, 2) for p in prob])\n",
        "\n",
        "def extract_features(url):\n",
        "    features = {}\n",
        "    features['url_length'] = len(url)\n",
        "    features['num_digits'] = sum(c.isdigit() for c in url)\n",
        "    features['num_special_chars'] = len(re.findall(r'[^A-Za-z0-9]', url))\n",
        "    features['num_subdirs'] = url.count('/')\n",
        "    features['num_dots'] = url.count('.')\n",
        "    features['has_https'] = 1 if \"https\" in url else 0\n",
        "    features['has_ip'] = 1 if re.search(r'(\\d{1,3}\\.){3}\\d{1,3}', url) else 0\n",
        "    features['entropy'] = calculate_entropy(url)\n",
        "    features['tld_length'] = len(url.split('.')[-1]) if '.' in url else 0\n",
        "\n",
        "    for word in suspicious_keywords:\n",
        "        features[f'keyword_{word}'] = 1 if word in url.lower() else 0\n",
        "    return features\n",
        "\n",
        "feature_list = df['url'].apply(extract_features)\n",
        "X = pd.DataFrame(list(feature_list))\n",
        "y = df['type']\n",
        "\n",
        "le = LabelEncoder()\n",
        "y_encoded = le.fit_transform(y)\n",
        "\n",
        "X_train, X_test, y_train, y_test = train_test_split(\n",
        "    X, y_encoded, test_size=0.2, random_state=42, stratify=y_encoded\n",
        ")\n"
      ],
      "metadata": {
        "id": "cHgxZXsIwrxN"
      },
      "execution_count": null,
      "outputs": []
    },
    {
      "cell_type": "code",
      "source": [
        "scaler = StandardScaler()\n",
        "X_train_scaled = scaler.fit_transform(X_train)\n",
        "X_test_scaled = scaler.transform(X_test)\n",
        "\n",
        "lr_model = LogisticRegression(max_iter=5000, solver=\"lbfgs\", class_weight=\"balanced\")\n",
        "lr_model.fit(X_train_scaled, y_train)\n",
        "\n",
        "dt_model = DecisionTreeClassifier(class_weight=\"balanced\", max_depth=20, random_state=42)\n",
        "dt_model.fit(X_train, y_train)  # Decision Tree does not need scaling\n",
        "\n",
        "print(\"\\nModels trained successfully!\")\n",
        "\n",
        "joblib.dump(lr_model, \"logistic_model.pkl\")\n",
        "joblib.dump(dt_model, \"decision_tree_model.pkl\")\n",
        "joblib.dump(le, \"label_encoder.pkl\")\n",
        "joblib.dump(scaler, \"scaler.pkl\")\n",
        "joblib.dump(X.columns.tolist(), \"feature_list.pkl\")\n",
        "\n",
        "\n",
        "def predict_url(url):\n",
        "\n",
        "    lr = joblib.load(\"logistic_model.pkl\")\n",
        "    dt = joblib.load(\"decision_tree_model.pkl\")\n",
        "    le = joblib.load(\"label_encoder.pkl\")\n",
        "    scaler = joblib.load(\"scaler.pkl\")\n",
        "    feature_names = joblib.load(\"feature_list.pkl\")\n",
        "\n",
        "    user_features = pd.DataFrame([extract_features(url)])[feature_names]\n",
        "\n",
        "    user_features_scaled = scaler.transform(user_features)\n",
        "\n",
        "    lr_probs = lr.predict_proba(user_features_scaled)[0]\n",
        "    dt_probs = dt.predict_proba(user_features)[0]\n",
        "\n",
        "    avg_probs = (lr_probs + dt_probs) / 2\n",
        "    final_class = le.inverse_transform([np.argmax(avg_probs)])[0]\n",
        "    confidence = np.max(avg_probs) * 100\n",
        "\n",
        "    if final_class == \"benign\":\n",
        "        print(f\"\\n{url} → SAFE LINK (Confidence: {confidence:.2f}%)\")\n",
        "    else:\n",
        "        print(f\"\\n{url} → NOT SAFE (Confidence: {confidence:.2f}%)\")\n",
        "        print(f\"   Predicted Class → {final_class}\")\n",
        "        print(f\"   Logistic Regression → {le.inverse_transform([np.argmax(lr_probs)])[0]}\")\n",
        "        print(f\"   Decision Tree       → {le.inverse_transform([np.argmax(dt_probs)])[0]}\")\n",
        "\n",
        "\n"
      ],
      "metadata": {
        "colab": {
          "base_uri": "https://localhost:8080/"
        },
        "id": "C-WrDUqueETL",
        "outputId": "f4c4af78-50e0-4d65-c0e7-51eb7764c87c"
      },
      "execution_count": null,
      "outputs": [
        {
          "output_type": "stream",
          "name": "stdout",
          "text": [
            "\n",
            "Models trained successfully!\n"
          ]
        }
      ]
    },
    {
      "cell_type": "code",
      "source": [
        "user_url = input(\"\\nEnter a URL to check: \")\n",
        "predict_url(user_url)"
      ],
      "metadata": {
        "colab": {
          "base_uri": "https://localhost:8080/"
        },
        "id": "Uwxgse1qeeIK",
        "outputId": "22d8fb37-dc44-41c5-b135-738406f101bf"
      },
      "execution_count": null,
      "outputs": [
        {
          "output_type": "stream",
          "name": "stdout",
          "text": [
            "\n",
            "Enter a URL to check: http://mys.co.om\n",
            "\n",
            "http://mys.co.om → NOT SAFE (Confidence: 85.48%)\n",
            "   Predicted Class → phishing\n",
            "   Logistic Regression → phishing\n",
            "   Decision Tree       → phishing\n"
          ]
        }
      ]
    },
    {
      "cell_type": "code",
      "source": [
        "from sklearn.metrics import f1_score, confusion_matrix, classification_report\n",
        "\n",
        "# Logistic Regression Evaluation\n",
        "y_pred_lr = lr_model.predict(X_test_scaled)\n",
        "print(\"\\n=== Logistic Regression Evaluation ===\")\n",
        "print(\"F1 Score:\", f1_score(y_test, y_pred_lr, average='weighted'))\n",
        "print(\"Confusion Matrix:\\n\", confusion_matrix(y_test, y_pred_lr))\n",
        "print(\"Classification Report:\\n\", classification_report(y_test, y_pred_lr, target_names=le.classes_))\n",
        "\n",
        "# Decision Tree Evaluation\n",
        "y_pred_dt = dt_model.predict(X_test)\n",
        "print(\"\\n=== Decision Tree Evaluation ===\")\n",
        "print(\"F1 Score:\", f1_score(y_test, y_pred_dt, average='weighted'))\n",
        "print(\"Confusion Matrix:\\n\", confusion_matrix(y_test, y_pred_dt))\n",
        "print(\"Classification Report:\\n\", classification_report(y_test, y_pred_dt, target_names=le.classes_))\n"
      ],
      "metadata": {
        "colab": {
          "base_uri": "https://localhost:8080/"
        },
        "id": "Bj4cv9anAEPX",
        "outputId": "c028470c-b7e2-495a-e6b0-ec042be76bcb"
      },
      "execution_count": null,
      "outputs": [
        {
          "output_type": "stream",
          "name": "stdout",
          "text": [
            "\n",
            "=== Logistic Regression Evaluation ===\n",
            "F1 Score: 0.6510487753367901\n",
            "Confusion Matrix:\n",
            " [[50364 10561  2531 22165]\n",
            " [ 2135 14257   658  2242]\n",
            " [  338   922  4939   305]\n",
            " [ 3595  1648  1325 12254]]\n",
            "Classification Report:\n",
            "               precision    recall  f1-score   support\n",
            "\n",
            "      benign       0.89      0.59      0.71     85621\n",
            "  defacement       0.52      0.74      0.61     19292\n",
            "     malware       0.52      0.76      0.62      6504\n",
            "    phishing       0.33      0.65      0.44     18822\n",
            "\n",
            "    accuracy                           0.63    130239\n",
            "   macro avg       0.57      0.68      0.59    130239\n",
            "weighted avg       0.74      0.63      0.65    130239\n",
            "\n",
            "\n",
            "=== Decision Tree Evaluation ===\n",
            "F1 Score: 0.892066067638237\n",
            "Confusion Matrix:\n",
            " [[76059  2749   524  6289]\n",
            " [  428 18328   152   384]\n",
            " [   94   102  6013   295]\n",
            " [ 2090  1045   292 15395]]\n",
            "Classification Report:\n",
            "               precision    recall  f1-score   support\n",
            "\n",
            "      benign       0.97      0.89      0.93     85621\n",
            "  defacement       0.82      0.95      0.88     19292\n",
            "     malware       0.86      0.92      0.89      6504\n",
            "    phishing       0.69      0.82      0.75     18822\n",
            "\n",
            "    accuracy                           0.89    130239\n",
            "   macro avg       0.84      0.90      0.86    130239\n",
            "weighted avg       0.90      0.89      0.89    130239\n",
            "\n"
          ]
        }
      ]
    }
  ],
  "metadata": {
    "colab": {
      "provenance": [],
      "gpuType": "T4"
    },
    "kernelspec": {
      "display_name": "Python 3",
      "name": "python3"
    },
    "language_info": {
      "name": "python"
    },
    "accelerator": "GPU"
  },
  "nbformat": 4,
  "nbformat_minor": 0
}